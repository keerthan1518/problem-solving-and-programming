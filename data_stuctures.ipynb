{
  "nbformat": 4,
  "nbformat_minor": 0,
  "metadata": {
    "colab": {
      "name": "data stuctures.ipynb",
      "version": "0.3.2",
      "provenance": []
    },
    "kernelspec": {
      "name": "python3",
      "display_name": "Python 3"
    }
  },
  "cells": [
    {
      "cell_type": "code",
      "metadata": {
        "id": "4x8eKWGsDe-h",
        "colab_type": "code",
        "colab": {
          "base_uri": "https://localhost:8080/",
          "height": 34
        },
        "outputId": "3202f039-49f9-474b-8691-579a90d0c19e"
      },
      "source": [
        "def binarySearch(a,lIndex,rIndex,taritem):\n",
        "    while lIndex <=rIndex:\n",
        "      mIndex=lIndex+(rIndex-lIndex)//2;\n",
        "      if a[mIndex]==taritem:\n",
        "          return mIndex\n",
        "      if a[mIndex]>taritem:\n",
        "          rIndex=Mindex-1\n",
        "      else:\n",
        "            lIndex=mIndex+1\n",
        "      return-1\n",
        "list1=[1,4,9,15,25,45,57,88,98]\n",
        "res= binarySearch(list1,0,8,818)\n",
        "if res!=-1:\n",
        "   print(\"Item is found\")\n",
        "else:\n",
        "   print(\"Item is not found\") "
      ],
      "execution_count": 17,
      "outputs": [
        {
          "output_type": "stream",
          "text": [
            "Item is not found\n"
          ],
          "name": "stdout"
        }
      ]
    },
    {
      "cell_type": "code",
      "metadata": {
        "id": "KSBaRmYCFzav",
        "colab_type": "code",
        "colab": {
          "base_uri": "https://localhost:8080/",
          "height": 34
        },
        "outputId": "b225ea24-05bf-4b1c-bd13-fccb9ada648a"
      },
      "source": [
        "def bubblesort(a):\n",
        "  for i in range(len(a)-1):\n",
        "    for j in range(len(a)-1):\n",
        "      if a[j]>a[j+1]:\n",
        "        a[j],a[j+1]=a[j+1],a[j]\n",
        "          \n",
        "  for i in range(len(a)):\n",
        "          print(a[i],end=\" \")\n",
        " \n",
        "list1=[19,1,25,6,18,3]\n",
        "bubblesort(list1)       "
      ],
      "execution_count": 5,
      "outputs": [
        {
          "output_type": "stream",
          "text": [
            "1 3 6 18 19 25 "
          ],
          "name": "stdout"
        }
      ]
    },
    {
      "cell_type": "code",
      "metadata": {
        "id": "szyNM890OXP1",
        "colab_type": "code",
        "colab": {}
      },
      "source": [
        ""
      ],
      "execution_count": 0,
      "outputs": []
    },
    {
      "cell_type": "markdown",
      "metadata": {
        "id": "z44Z4ahFbf3Z",
        "colab_type": "text"
      },
      "source": [
        "### creating a string\n",
        "\n",
        "--"
      ]
    },
    {
      "cell_type": "code",
      "metadata": {
        "id": "Ms-GLVZZRZty",
        "colab_type": "code",
        "colab": {
          "base_uri": "https://localhost:8080/",
          "height": 119
        },
        "outputId": "327a7053-a1da-4104-dc44-e167e836b059"
      },
      "source": [
        "str=\"application\"\n",
        "print(str)\n",
        "print(\"str[0]= \",str[0])\n",
        "print(\"str[1]= \",str[1])\n",
        "print(\"str[-1]= \",str[-1])\n",
        "print(\"str[-3]= \",str[-3])\n",
        "print(\"str[1:5]= \",str[1:5])\n",
        "\n",
        "\n",
        "def isPalindrome(s):\n",
        "    if s==s[::-1]:\n",
        "        return True\n",
        "    else:\n",
        "        return False\n",
        "\n",
        "print(isPalindrome(\"Python\"))\n",
        "print(isPalindrome(\"jalaj\"))\n",
        "\n"
      ],
      "execution_count": 7,
      "outputs": [
        {
          "output_type": "stream",
          "text": [
            "application\n",
            "str[0]=  a\n",
            "str[1]=  p\n",
            "str[-1]=  n\n",
            "str[-3]=  i\n",
            "str[1:5]=  ppli\n"
          ],
          "name": "stdout"
        }
      ]
    },
    {
      "cell_type": "code",
      "metadata": {
        "id": "I7Rcqf47SRgx",
        "colab_type": "code",
        "colab": {}
      },
      "source": [
        ""
      ],
      "execution_count": 0,
      "outputs": []
    },
    {
      "cell_type": "markdown",
      "metadata": {
        "id": "_RkAuPc6b1cp",
        "colab_type": "text"
      },
      "source": [
        "**Palindrome**"
      ]
    },
    {
      "cell_type": "code",
      "metadata": {
        "id": "1OunYgrmcQ1k",
        "colab_type": "code",
        "colab": {
          "base_uri": "https://localhost:8080/",
          "height": 51
        },
        "outputId": "40011db4-1312-4c28-8d26-f2eb710da203"
      },
      "source": [
        "\n",
        "def isPalindrome(s):\n",
        "    if s==s[::-1]:\n",
        "        return True\n",
        "    else:\n",
        "        return False\n",
        "\n",
        "print(isPalindrome(\"Python\"))\n",
        "print(isPalindrome(\"jalaj\"))\n",
        "\n"
      ],
      "execution_count": 9,
      "outputs": [
        {
          "output_type": "stream",
          "text": [
            "False\n",
            "True\n"
          ],
          "name": "stdout"
        }
      ]
    },
    {
      "cell_type": "markdown",
      "metadata": {
        "id": "ODm7ylnRdNZz",
        "colab_type": "text"
      },
      "source": [
        "**string** **convert lists "
      ]
    },
    {
      "cell_type": "code",
      "metadata": {
        "id": "keIMZZWcdaYa",
        "colab_type": "code",
        "colab": {
          "base_uri": "https://localhost:8080/",
          "height": 34
        },
        "outputId": "aedefcfc-045b-4232-a563-a0dcc3067326"
      },
      "source": [
        "\n",
        "def countdg(n):\n",
        "    return len(n);\n",
        "\n",
        "countdg(\"3455678\")\n",
        "\n"
      ],
      "execution_count": 10,
      "outputs": [
        {
          "output_type": "execute_result",
          "data": {
            "text/plain": [
              "7"
            ]
          },
          "metadata": {
            "tags": []
          },
          "execution_count": 10
        }
      ]
    },
    {
      "cell_type": "code",
      "metadata": {
        "id": "t7MBolhjlXHu",
        "colab_type": "code",
        "colab": {
          "base_uri": "https://localhost:8080/",
          "height": 34
        },
        "outputId": "29a09473-020e-4a6c-80a6-c9c2e3988687"
      },
      "source": [
        "\n",
        "def countch(n):\n",
        "    return len(n);\n",
        "\n",
        "countch(\"dfghjk\")\n",
        "\n"
      ],
      "execution_count": 11,
      "outputs": [
        {
          "output_type": "execute_result",
          "data": {
            "text/plain": [
              "6"
            ]
          },
          "metadata": {
            "tags": []
          },
          "execution_count": 11
        }
      ]
    },
    {
      "cell_type": "code",
      "metadata": {
        "id": "mTPVI89dpZhB",
        "colab_type": "code",
        "colab": {
          "base_uri": "https://localhost:8080/",
          "height": 51
        },
        "outputId": "d138efe0-3e18-4e60-e1f3-32adc9134f27"
      },
      "source": [
        "def countuppercase(str):\n",
        "    cnt=0\n",
        "    lst=list(str)\n",
        "    for x in range(len(lst)):\n",
        "        if ord(lst[x])>=65 and ord(lst[x])<=90:\n",
        "            cnt= cnt + 1\n",
        "    return cnt\n",
        "    \n",
        "print(countuppercase(\"Application\"))\n",
        "print(countuppercase(\"TeST\"));"
      ],
      "execution_count": 12,
      "outputs": [
        {
          "output_type": "stream",
          "text": [
            "1\n",
            "3\n"
          ],
          "name": "stdout"
        }
      ]
    },
    {
      "cell_type": "code",
      "metadata": {
        "id": "VfVYO2EBtyPh",
        "colab_type": "code",
        "colab": {
          "base_uri": "https://localhost:8080/",
          "height": 34
        },
        "outputId": "bdc50066-4453-4642-c751-b6d8feb561d2"
      },
      "source": [
        "\n",
        "def printDigits(str):\n",
        "    lst=list(str)\n",
        "    for x in range(len(lst)):\n",
        "        if ord(lst[x])>=48 and ord(lst[x])<=57:\n",
        "            print(lst[x],end=\"\")\n",
        "\n",
        "print(printDigits(\"Application1889\"))\n",
        "\n"
      ],
      "execution_count": 13,
      "outputs": [
        {
          "output_type": "stream",
          "text": [
            "1889None\n"
          ],
          "name": "stdout"
        }
      ]
    },
    {
      "cell_type": "code",
      "metadata": {
        "id": "QGT5u5pCuMnD",
        "colab_type": "code",
        "colab": {}
      },
      "source": [
        ""
      ],
      "execution_count": 0,
      "outputs": []
    },
    {
      "cell_type": "markdown",
      "metadata": {
        "id": "83DnwZLJH4CY",
        "colab_type": "text"
      },
      "source": [
        "**sum of digits**"
      ]
    },
    {
      "cell_type": "code",
      "metadata": {
        "id": "SCxUOzR4H7gU",
        "colab_type": "code",
        "colab": {
          "base_uri": "https://localhost:8080/",
          "height": 34
        },
        "outputId": "0bbec234-26bd-42a8-dc3e-de77d897bbc0"
      },
      "source": [
        "def sumdgstr(str):\n",
        "    sum=0;\n",
        "    list1=list(str);\n",
        "    for x in range(len(list1)):\n",
        "        if ord(list1[x])>=48 and ord(list1[x])<=57:\n",
        "            sum=sum+ord(list1[x])-48;\n",
        "    return sum;\n",
        "            \n",
        "print(sumdgstr(\"Application1889\"))\n"
      ],
      "execution_count": 1,
      "outputs": [
        {
          "output_type": "stream",
          "text": [
            "26\n"
          ],
          "name": "stdout"
        }
      ]
    },
    {
      "cell_type": "markdown",
      "metadata": {
        "id": "AbelX7UEIy8z",
        "colab_type": "text"
      },
      "source": [
        "**sum of even digits**"
      ]
    },
    {
      "cell_type": "code",
      "metadata": {
        "id": "V7G866KTJWll",
        "colab_type": "code",
        "colab": {
          "base_uri": "https://localhost:8080/",
          "height": 51
        },
        "outputId": "d07474df-c26b-476d-b298-3837222ccdcf"
      },
      "source": [
        "def sumOnlyEvenDigits(str):\n",
        "    sum=0\n",
        "    lst=list(str)\n",
        "    for x in range(len(lst)):\n",
        "        if ord(lst[x])>=48 and ord(lst[x])<=57:\n",
        "            ac=ord(lst[x])-48\n",
        "            if(ac%2==0):\n",
        "                sum=sum+ac\n",
        "    return sum\n",
        "print(sumOnlyEvenDigits(\"application1889\"))\n",
        "print(sumOnlyEvenDigits(\"te1574s69t\"))        \n",
        "\n"
      ],
      "execution_count": 2,
      "outputs": [
        {
          "output_type": "stream",
          "text": [
            "16\n",
            "10\n"
          ],
          "name": "stdout"
        }
      ]
    },
    {
      "cell_type": "code",
      "metadata": {
        "id": "qd5092lLJYxL",
        "colab_type": "code",
        "colab": {}
      },
      "source": [
        ""
      ],
      "execution_count": 0,
      "outputs": []
    }
  ]
}