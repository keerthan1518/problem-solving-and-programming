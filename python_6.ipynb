{
  "nbformat": 4,
  "nbformat_minor": 0,
  "metadata": {
    "colab": {
      "name": "python 6.ipynb",
      "version": "0.3.2",
      "provenance": [],
      "collapsed_sections": []
    },
    "kernelspec": {
      "name": "python2",
      "display_name": "Python 2"
    }
  },
  "cells": [
    {
      "cell_type": "markdown",
      "metadata": {
        "id": "sNoNHa1MFqMr",
        "colab_type": "text"
      },
      "source": [
        " ***function to create a file and write some data** "
      ]
    },
    {
      "cell_type": "code",
      "metadata": {
        "id": "m-0ACIfuF6zS",
        "colab_type": "code",
        "colab": {
          "base_uri": "https://localhost:8080/",
          "height": 34
        },
        "outputId": "f61aea40-cb5c-4965-e511-e50716e3a538"
      },
      "source": [
        "def createFile(filename):\n",
        "    f=open(filename,\"w\")\n",
        "    for i in range(10):\n",
        "        f. write(\"this is %d line\\n\"%i)\n",
        "    print(\"file is created successfully and data is written\")\n",
        "    f.close()\n",
        "    return\n",
        "createFile(\"file.txt\") "
      ],
      "execution_count": 12,
      "outputs": [
        {
          "output_type": "stream",
          "text": [
            "file is created successfully and data is written\n"
          ],
          "name": "stdout"
        }
      ]
    },
    {
      "cell_type": "markdown",
      "metadata": {
        "id": "_fwKWyzZIBs1",
        "colab_type": "text"
      },
      "source": [
        "**function for reading the file data**"
      ]
    },
    {
      "cell_type": "code",
      "metadata": {
        "id": "xvZfqZTGGEtP",
        "colab_type": "code",
        "colab": {
          "base_uri": "https://localhost:8080/",
          "height": 204
        },
        "outputId": "d55e192e-b285-429a-d369-0a2522094f6b"
      },
      "source": [
        "def readFile(filename):\n",
        "  f=open(filename,\"r\")\n",
        "  if f.mode==\"r\":\n",
        "    x=f.read()\n",
        "    print(x)\n",
        "  f.close()\n",
        "  return\n",
        "\n",
        "readFile(\"file.txt\")"
      ],
      "execution_count": 13,
      "outputs": [
        {
          "output_type": "stream",
          "text": [
            "this is 0 line\n",
            "this is 1 line\n",
            "this is 2 line\n",
            "this is 3 line\n",
            "this is 4 line\n",
            "this is 5 line\n",
            "this is 6 line\n",
            "this is 7 line\n",
            "this is 8 line\n",
            "this is 9 line\n",
            "\n"
          ],
          "name": "stdout"
        }
      ]
    },
    {
      "cell_type": "code",
      "metadata": {
        "id": "60qNpY10JNWb",
        "colab_type": "code",
        "colab": {}
      },
      "source": [
        "def appenddata(filename):\n",
        "    f=open(filename,\"a\")\n",
        "    f.write(\"new line 1\\n\")\n",
        "    f.write(\"new line 2\\n\")\n",
        "    f.close()\n",
        "    return\n",
        "appenddata(\"file.txt\")"
      ],
      "execution_count": 0,
      "outputs": []
    },
    {
      "cell_type": "code",
      "metadata": {
        "id": "XF5KNruzkQ_Q",
        "colab_type": "code",
        "colab": {
          "base_uri": "https://localhost:8080/",
          "height": 34
        },
        "outputId": "39095749-a7ed-4a00-bd3f-b5518c01889a"
      },
      "source": [
        "def dataanalysiswordcount(filename,word):\n",
        "    f=open(filename,\"r\")\n",
        "    if f.mode==\"r\":\n",
        "        x=f.read()\n",
        "        lst=x.split()\n",
        "        cnt=lst.count(word)\n",
        "        return cnt\n",
        "print(dataanalysiswordcount(\"file.txt\",\"rest\"))"
      ],
      "execution_count": 15,
      "outputs": [
        {
          "output_type": "stream",
          "text": [
            "0\n"
          ],
          "name": "stdout"
        }
      ]
    },
    {
      "cell_type": "code",
      "metadata": {
        "id": "1qbxjgRbkZ57",
        "colab_type": "code",
        "colab": {
          "base_uri": "https://localhost:8080/",
          "height": 34
        },
        "outputId": "59f3c39d-df7d-4bd7-83ca-cbefa56c9829"
      },
      "source": [
        "def countcharacter(filename):\n",
        "    f=open(filename,\"r\")\n",
        "    if f.mode==\"r\":\n",
        "        x=f.read()\n",
        "        lst=list(x)\n",
        "    return len(lst)\n",
        "print(countcharacter(\"file.txt\"))"
      ],
      "execution_count": 16,
      "outputs": [
        {
          "output_type": "stream",
          "text": [
            "172\n"
          ],
          "name": "stdout"
        }
      ]
    },
    {
      "cell_type": "code",
      "metadata": {
        "id": "zVDP3sPZkcxj",
        "colab_type": "code",
        "colab": {
          "base_uri": "https://localhost:8080/",
          "height": 34
        },
        "outputId": "2536eef6-7b5a-4727-9fc6-ec4cc35ff8b9"
      },
      "source": [
        "def upperCaseCount(filename):\n",
        "    cntupper=0\n",
        "    f=open(filename,\"r\")\n",
        "    if f.mode==\"r\":\n",
        "        x=f.read()\n",
        "        lst=list(x)\n",
        "    for i in lst:\n",
        "        if i.isupper():\n",
        "            cntupper+=1\n",
        "    return cntupper\n",
        "upperCaseCount(\"file.txt\")"
      ],
      "execution_count": 17,
      "outputs": [
        {
          "output_type": "execute_result",
          "data": {
            "text/plain": [
              "0"
            ]
          },
          "metadata": {
            "tags": []
          },
          "execution_count": 17
        }
      ]
    },
    {
      "cell_type": "code",
      "metadata": {
        "id": "V4SBWv9xqAgQ",
        "colab_type": "code",
        "colab": {
          "base_uri": "https://localhost:8080/",
          "height": 51
        },
        "outputId": "13a5f2d5-c190-4ab2-fbe7-2385b40af53d"
      },
      "source": [
        "import re\n",
        "def phonenumbervalidate(phone):\n",
        "    pattern='^[6-9][0-9]{9}$'\n",
        "    phone=str(phone)\n",
        "    if re.match(pattern,phone):\n",
        "        return True\n",
        "    return False\n",
        "print(phonenumbervalidate(9966338855))\n",
        "print(phonenumbervalidate(996633885))\n",
        "\n"
      ],
      "execution_count": 19,
      "outputs": [
        {
          "output_type": "stream",
          "text": [
            "True\n",
            "False\n"
          ],
          "name": "stdout"
        }
      ]
    },
    {
      "cell_type": "code",
      "metadata": {
        "id": "iERUimStMYLf",
        "colab_type": "code",
        "colab": {
          "base_uri": "https://localhost:8080/",
          "height": 34
        },
        "outputId": "c7563bb9-31be-44f3-b583-0d701d7a5f9d"
      },
      "source": [
        "def countlines(filename):\n",
        "    f=open(filename,\"r\")\n",
        "    if f.mode==\"r\":\n",
        "        x=f.read()\n",
        "        lst=x.split(\"\\n\")\n",
        "    return len(lst)\n",
        "countlines(\"file.txt\")"
      ],
      "execution_count": 20,
      "outputs": [
        {
          "output_type": "execute_result",
          "data": {
            "text/plain": [
              "13"
            ]
          },
          "metadata": {
            "tags": []
          },
          "execution_count": 20
        }
      ]
    },
    {
      "cell_type": "code",
      "metadata": {
        "id": "y5rOZITvMsYx",
        "colab_type": "code",
        "colab": {
          "base_uri": "https://localhost:8080/",
          "height": 51
        },
        "outputId": "d264e0c0-0fa0-486c-9069-cb8fe4f4d926"
      },
      "source": [
        "import re\n",
        "def validaterollnumber(number):\n",
        "    number=str(number)\n",
        "    pattern='^[1][5][2][U][1][A][0][1-9][0-6][0-9]'\n",
        "    if re.match(pattern,number):\n",
        "        return True\n",
        "    return False\n",
        "print(validaterollnumber(\"152U1A0555\"))\n",
        "print(validaterollnumber(\"152U1A0485\"))"
      ],
      "execution_count": 21,
      "outputs": [
        {
          "output_type": "stream",
          "text": [
            "True\n",
            "False\n"
          ],
          "name": "stdout"
        }
      ]
    },
    {
      "cell_type": "code",
      "metadata": {
        "id": "8TmECTt_RXMd",
        "colab_type": "code",
        "colab": {
          "base_uri": "https://localhost:8080/",
          "height": 51
        },
        "outputId": "57beb6fb-30f6-4163-db67-d53dbaa5f59b"
      },
      "source": [
        "import re  \n",
        "def validateEmailID(email):\n",
        "    pattern=\"^[0-9a-z][0-9a-z_.]{4,13}[0-9a-z][@][a-z0-9]{3,18}[.][a-z]{2,4}$\"\n",
        "    if re.match(pattern,email):\n",
        "        return True\n",
        "    return False\n",
        "\n",
        "print(validateEmailID(\"$anil.1889@gmail.com\"))\n",
        "print(validateEmailID(\"vsra2000@gmail.com\"))"
      ],
      "execution_count": 22,
      "outputs": [
        {
          "output_type": "stream",
          "text": [
            "False\n",
            "True\n"
          ],
          "name": "stdout"
        }
      ]
    },
    {
      "cell_type": "code",
      "metadata": {
        "id": "8OhCfzhAYzbU",
        "colab_type": "code",
        "colab": {
          "base_uri": "https://localhost:8080/",
          "height": 51
        },
        "outputId": "b05c041b-1ce9-40eb-d4b8-9be4156c1647"
      },
      "source": [
        "import re  \n",
        "def validatePassword(s):\n",
        "    pattern=\"^[a-zA-Z0-9!@#$]{6,15}$\"\n",
        "    if re.match(pattern,s):\n",
        "        return True\n",
        "    return False\n",
        "\n",
        "print(validatePassword(\"emerald@306\"))\n",
        "print(validatePassword(\"emerald@306686656\"))"
      ],
      "execution_count": 23,
      "outputs": [
        {
          "output_type": "stream",
          "text": [
            "True\n",
            "False\n"
          ],
          "name": "stdout"
        }
      ]
    },
    {
      "cell_type": "code",
      "metadata": {
        "id": "bRNchhVkuxSK",
        "colab_type": "code",
        "colab": {}
      },
      "source": [
        ""
      ],
      "execution_count": 0,
      "outputs": []
    }
  ]
}