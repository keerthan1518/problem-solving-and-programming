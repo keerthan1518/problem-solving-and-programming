{
  "nbformat": 4,
  "nbformat_minor": 0,
  "metadata": {
    "colab": {
      "name": "string functions.ipynb",
      "version": "0.3.2",
      "provenance": [],
      "collapsed_sections": []
    },
    "kernelspec": {
      "name": "python2",
      "display_name": "Python 2"
    }
  },
  "cells": [
    {
      "cell_type": "code",
      "metadata": {
        "id": "_qhfMrZsJRLd",
        "colab_type": "code",
        "outputId": "60e4097c-b877-47e0-80b8-51b52923aeeb",
        "colab": {
          "base_uri": "https://localhost:8080/",
          "height": 51
        }
      },
      "source": [
        "str=\"Anil\";\n",
        "print(str.lower());\n",
        "print(str.upper())"
      ],
      "execution_count": 0,
      "outputs": [
        {
          "output_type": "stream",
          "text": [
            "anil\n",
            "ANIL\n"
          ],
          "name": "stdout"
        }
      ]
    },
    {
      "cell_type": "markdown",
      "metadata": {
        "id": "-YjSlPF_JiVn",
        "colab_type": "text"
      },
      "source": [
        "**boolean methods**"
      ]
    },
    {
      "cell_type": "code",
      "metadata": {
        "id": "3vQk4Ue8Jo6V",
        "colab_type": "code",
        "outputId": "90dcf015-6eb0-4520-85cc-8f43962bfd5b",
        "colab": {
          "base_uri": "https://localhost:8080/",
          "height": 51
        }
      },
      "source": [
        "s='python is Easy programming to learn and interesting'\n",
        "s1=\"python\"\n",
        "print(s.islower())\n",
        "print(s1.islower())"
      ],
      "execution_count": 0,
      "outputs": [
        {
          "output_type": "stream",
          "text": [
            "False\n",
            "True\n"
          ],
          "name": "stdout"
        }
      ]
    },
    {
      "cell_type": "code",
      "metadata": {
        "id": "oxcBaVF_MYGl",
        "colab_type": "code",
        "outputId": "e29b8048-d059-40f5-e90a-c98edb3f110a",
        "colab": {
          "base_uri": "https://localhost:8080/",
          "height": 51
        }
      },
      "source": [
        "s=\"Application\"\n",
        "s1='ANIL'\n",
        "print(s.isupper())\n",
        "print(s1.isupper())\n"
      ],
      "execution_count": 0,
      "outputs": [
        {
          "output_type": "stream",
          "text": [
            "False\n",
            "True\n"
          ],
          "name": "stdout"
        }
      ]
    },
    {
      "cell_type": "code",
      "metadata": {
        "id": "z_S0UD3NOgv2",
        "colab_type": "code",
        "outputId": "a6ea0b5c-c156-4fa1-9736-2c3969aa100f",
        "colab": {
          "base_uri": "https://localhost:8080/",
          "height": 51
        }
      },
      "source": [
        "s=\"5678\"\n",
        "s1=\"App1889\"\n",
        "print(s.isdigit())\n",
        "print(s1.isdigit())"
      ],
      "execution_count": 0,
      "outputs": [
        {
          "output_type": "stream",
          "text": [
            "True\n",
            "False\n"
          ],
          "name": "stdout"
        }
      ]
    },
    {
      "cell_type": "code",
      "metadata": {
        "id": "H-scsG_CM6Mm",
        "colab_type": "code",
        "outputId": "e312d175-a66c-4478-8943-95a90bd7a8f5",
        "colab": {
          "base_uri": "https://localhost:8080/",
          "height": 51
        }
      },
      "source": [
        "s=\"Application\"\n",
        "s1=\"App1889\"\n",
        "print(s.isalpha())\n",
        "print(s1.isalpha())"
      ],
      "execution_count": 0,
      "outputs": [
        {
          "output_type": "stream",
          "text": [
            "True\n",
            "False\n"
          ],
          "name": "stdout"
        }
      ]
    },
    {
      "cell_type": "code",
      "metadata": {
        "id": "y85teoOrPaY4",
        "colab_type": "code",
        "outputId": "73db7701-7afa-4c8f-ba5a-8ffa245bb21f",
        "colab": {
          "base_uri": "https://localhost:8080/",
          "height": 51
        }
      },
      "source": [
        "s=\"Python programming\";\n",
        "s1=\"Python Programming\";\n",
        "print(s.istitle());\n",
        "print(s1.istitle());"
      ],
      "execution_count": 0,
      "outputs": [
        {
          "output_type": "stream",
          "text": [
            "False\n",
            "True\n"
          ],
          "name": "stdout"
        }
      ]
    },
    {
      "cell_type": "code",
      "metadata": {
        "id": "q6I8DNMCQWF7",
        "colab_type": "code",
        "outputId": "b8f9eb53-c910-4259-9ef4-f185f4b5d527",
        "colab": {
          "base_uri": "https://localhost:8080/",
          "height": 51
        }
      },
      "source": [
        "s=\"python\"\n",
        "s1=\"  \"\n",
        "print(s.isspace())\n",
        "print(s1.isspace())"
      ],
      "execution_count": 0,
      "outputs": [
        {
          "output_type": "stream",
          "text": [
            "False\n",
            "True\n"
          ],
          "name": "stdout"
        }
      ]
    },
    {
      "cell_type": "markdown",
      "metadata": {
        "id": "HXxPSfw3Q30o",
        "colab_type": "text"
      },
      "source": [
        "**string functions**"
      ]
    },
    {
      "cell_type": "code",
      "metadata": {
        "id": "8H6qgBMnQnSw",
        "colab_type": "code",
        "outputId": "9b6c821c-fd12-4176-f0f3-9fb02bee0705",
        "colab": {
          "base_uri": "https://localhost:8080/",
          "height": 34
        }
      },
      "source": [
        "str=\"python\"\n",
        "print(\" \".join(str))"
      ],
      "execution_count": 0,
      "outputs": [
        {
          "output_type": "stream",
          "text": [
            "p y t h o n\n"
          ],
          "name": "stdout"
        }
      ]
    },
    {
      "cell_type": "code",
      "metadata": {
        "id": "LvxXmTRzQ2AJ",
        "colab_type": "code",
        "outputId": "a0dd43e5-8897-41cb-bf37-6786ff7b71ba",
        "colab": {
          "base_uri": "https://localhost:8080/",
          "height": 34
        }
      },
      "source": [
        "print(\" g \".join([\"python\",\"programming\",\"Easy\"]))\n"
      ],
      "execution_count": 0,
      "outputs": [
        {
          "output_type": "stream",
          "text": [
            "python g programming g Easy\n"
          ],
          "name": "stdout"
        }
      ]
    },
    {
      "cell_type": "code",
      "metadata": {
        "id": "ycDGgp_QQwzz",
        "colab_type": "code",
        "outputId": "6a6b01ab-533f-4e07-b8da-932b9b0f6094",
        "colab": {
          "base_uri": "https://localhost:8080/",
          "height": 34
        }
      },
      "source": [
        "\n",
        "lst=[\"\",\"\"]\n",
        "print(\",\".join(lst));"
      ],
      "execution_count": 0,
      "outputs": [
        {
          "output_type": "stream",
          "text": [
            ",\n"
          ],
          "name": "stdout"
        }
      ]
    },
    {
      "cell_type": "markdown",
      "metadata": {
        "id": "iqAIQwVRUXW5",
        "colab_type": "text"
      },
      "source": [
        "**Split**"
      ]
    },
    {
      "cell_type": "code",
      "metadata": {
        "id": "6xzSt0afUci1",
        "colab_type": "code",
        "outputId": "4f577fa5-65cd-4c81-b940-2c1acfeeab5c",
        "colab": {
          "base_uri": "https://localhost:8080/",
          "height": 68
        }
      },
      "source": [
        "s=\"Python is Easy\";\n",
        "print(s.split())\n",
        "print(s.split(\"a\"));\n",
        "print(s.split(\",\"))"
      ],
      "execution_count": 0,
      "outputs": [
        {
          "output_type": "stream",
          "text": [
            "['Python', 'is', 'Easy']\n",
            "['Python is E', 'sy']\n",
            "['Python is Easy']\n"
          ],
          "name": "stdout"
        }
      ]
    },
    {
      "cell_type": "code",
      "metadata": {
        "id": "cA9GSvH3UnWD",
        "colab_type": "code",
        "outputId": "7e35ca61-38fa-480f-90c1-64cc854d1031",
        "colab": {
          "base_uri": "https://localhost:8080/",
          "height": 51
        }
      },
      "source": [
        "\n",
        "\n",
        "s=\"Python Programming is easy to learn\";\n",
        "lst=s.split();\n",
        "print(lst);\n",
        "print(lst.index(\"is\"));\n",
        "\n"
      ],
      "execution_count": 0,
      "outputs": [
        {
          "output_type": "stream",
          "text": [
            "['Python', 'Programming', 'is', 'easy', 'to', 'learn']\n",
            "2\n"
          ],
          "name": "stdout"
        }
      ]
    },
    {
      "cell_type": "code",
      "metadata": {
        "id": "s6q9wT9KU6Gt",
        "colab_type": "code",
        "outputId": "54bbe667-50cf-4a2b-ef41-b2e7e12667eb",
        "colab": {
          "base_uri": "https://localhost:8080/",
          "height": 51
        }
      },
      "source": [
        "\n",
        "\n",
        "s=\"Python Programming is easy to learn\";\n",
        "lst=s.split();\n",
        "print(lst);\n",
        "print(lst.index(\"is\"));\n",
        "\n"
      ],
      "execution_count": 0,
      "outputs": [
        {
          "output_type": "stream",
          "text": [
            "['Python', 'Programming', 'is', 'easy', 'to', 'learn']\n",
            "2\n"
          ],
          "name": "stdout"
        }
      ]
    },
    {
      "cell_type": "code",
      "metadata": {
        "id": "d3WvL8VZU-vu",
        "colab_type": "code",
        "outputId": "70a94865-d1b1-40fd-9758-6ff33d271796",
        "colab": {
          "base_uri": "https://localhost:8080/",
          "height": 34
        }
      },
      "source": [
        "s=\"Python Programming\";\n",
        "print(s.replace(\"gra\",\"application\"));"
      ],
      "execution_count": 0,
      "outputs": [
        {
          "output_type": "stream",
          "text": [
            "Python Proapplicationmming\n"
          ],
          "name": "stdout"
        }
      ]
    },
    {
      "cell_type": "code",
      "metadata": {
        "id": "DQqpgs5kVNUI",
        "colab_type": "code",
        "outputId": "6cd8ce3d-5745-439e-acc2-4bbf57417135",
        "colab": {
          "base_uri": "https://localhost:8080/",
          "height": 54
        }
      },
      "source": [
        "s=\"Python Programming is easy to learn\";\n",
        "lst=list(s);\n",
        "print(lst);"
      ],
      "execution_count": 0,
      "outputs": [
        {
          "output_type": "stream",
          "text": [
            "['P', 'y', 't', 'h', 'o', 'n', ' ', 'P', 'r', 'o', 'g', 'r', 'a', 'm', 'm', 'i', 'n', 'g', ' ', 'i', 's', ' ', 'e', 'a', 's', 'y', ' ', 't', 'o', ' ', 'l', 'e', 'a', 'r', 'n']\n"
          ],
          "name": "stdout"
        }
      ]
    },
    {
      "cell_type": "code",
      "metadata": {
        "id": "pJJb_tlBVsXA",
        "colab_type": "code",
        "outputId": "7ec0ddb7-4d48-427e-d37f-ea01f55f7c96",
        "colab": {
          "base_uri": "https://localhost:8080/",
          "height": 136
        }
      },
      "source": [
        "\n",
        "t1=(\"Python\",\"Programming\",\"1989\",\"2019\",\"Machine Learning\",\"AI\")\n",
        "t2=(1,2,3,4,5)\n",
        "print(t1);\n",
        "print(t2);\n",
        "\n",
        "t1=(\"Python\",\"Programming\",\"1989\",\"2019\",\"Machine Learning\",\"AI\")\n",
        "print(\"t1[0]=\",t1[0]);\n",
        "print(\"t1[2]=\",t1[2]);\n",
        "print(\"t1[-1]=\",t1[-1]);\n",
        "print(\"t1[1:4]=\",t1[1:4]);\n",
        "print(\"t1[2:-2]=\",t1[2:-2])"
      ],
      "execution_count": 0,
      "outputs": [
        {
          "output_type": "stream",
          "text": [
            "('Python', 'Programming', '1989', '2019', 'Machine Learning', 'AI')\n",
            "(1, 2, 3, 4, 5)\n",
            "('t1[0]=', 'Python')\n",
            "('t1[2]=', '1989')\n",
            "('t1[-1]=', 'AI')\n",
            "('t1[1:4]=', ('Programming', '1989', '2019'))\n",
            "('t1[2:-2]=', ('1989', '2019'))\n"
          ],
          "name": "stdout"
        }
      ]
    },
    {
      "cell_type": "code",
      "metadata": {
        "id": "vo5NQV5vavtK",
        "colab_type": "code",
        "colab": {
          "base_uri": "https://localhost:8080/",
          "height": 136
        },
        "outputId": "210072b9-9388-4b60-b54b-0367c97493f6"
      },
      "source": [
        "\n",
        "t1=(\"Python\",\"Programming\",\"1989\",\"2019\",\"Machine Learning\",\"AI\")\n",
        "t2=(1,2,3,4,5)\n",
        "print(t1);\n",
        "print(t2);\n",
        "\n",
        "t1=(\"Python\",\"Programming\",\"1989\",\"2019\",\"Machine Learning\",\"AI\")\n",
        "print(\"t1[0]=\",t1[0]);\n",
        "print(\"t1[2]=\",t1[2]);\n",
        "print(\"t1[-1]=\",t1[-1]);\n",
        "print(\"t1[1:4]=\",t1[1:4]);\n",
        "print(\"t1[2:-2]=\",t1[2:-2]);\n",
        "\n"
      ],
      "execution_count": 26,
      "outputs": [
        {
          "output_type": "stream",
          "text": [
            "('Python', 'Programming', '1989', '2019', 'Machine Learning', 'AI')\n",
            "(1, 2, 3, 4, 5)\n",
            "('t1[0]=', 'Python')\n",
            "('t1[2]=', '1989')\n",
            "('t1[-1]=', 'AI')\n",
            "('t1[1:4]=', ('Programming', '1989', '2019'))\n",
            "('t1[2:-2]=', ('1989', '2019'))\n"
          ],
          "name": "stdout"
        }
      ]
    },
    {
      "cell_type": "code",
      "metadata": {
        "id": "t8DSGfg7ofBR",
        "colab_type": "code",
        "colab": {
          "base_uri": "https://localhost:8080/",
          "height": 68
        },
        "outputId": "5377f397-1c02-43d5-d8a4-3840cb1bf3e1"
      },
      "source": [
        "\n",
        "t1=(1,2,3,4,5);\n",
        "t2=(1,2,3,4,5);\n",
        "print(t1);\n",
        "print(t2);\n",
        "a=cmp(t1,t2);\n",
        "print(a);"
      ],
      "execution_count": 27,
      "outputs": [
        {
          "output_type": "stream",
          "text": [
            "(1, 2, 3, 4, 5)\n",
            "(1, 2, 3, 4, 5)\n",
            "0\n"
          ],
          "name": "stdout"
        }
      ]
    },
    {
      "cell_type": "code",
      "metadata": {
        "id": "BgqYNphLp7p4",
        "colab_type": "code",
        "colab": {
          "base_uri": "https://localhost:8080/",
          "height": 51
        },
        "outputId": "018671fa-b563-412a-f510-33075383418b"
      },
      "source": [
        "\n",
        "list1=[\"Python\",\"Pogrammong\",1989,2019,\"Machine Learning\",\"AI\"];\n",
        "print(list1);\n",
        "tuple1=tuple(list1);\n",
        "print(tuple1);"
      ],
      "execution_count": 28,
      "outputs": [
        {
          "output_type": "stream",
          "text": [
            "['Python', 'Pogrammong', 1989, 2019, 'Machine Learning', 'AI']\n",
            "('Python', 'Pogrammong', 1989, 2019, 'Machine Learning', 'AI')\n"
          ],
          "name": "stdout"
        }
      ]
    },
    {
      "cell_type": "code",
      "metadata": {
        "id": "Y2LlMjUXp-yA",
        "colab_type": "code",
        "colab": {
          "base_uri": "https://localhost:8080/",
          "height": 85
        },
        "outputId": "50637586-2883-487d-a26f-ccaf4ca8e4da"
      },
      "source": [
        "user1={'Name': 'Anil', 'Age': '29','EmailID':'anil@gmail.com','Mobile no.':'123456789'}\n",
        "print(\"user1[Name]=\",user1['Name'])\n",
        "print(\"user1[Age]=\",user1['Age'])\n",
        "print(\"user1[EmailID]=\",user1['EmailID'])\n",
        "print(\"user1[Mobile no.]=\",user1['Mobile no.'])"
      ],
      "execution_count": 29,
      "outputs": [
        {
          "output_type": "stream",
          "text": [
            "('user1[Name]=', 'Anil')\n",
            "('user1[Age]=', '29')\n",
            "('user1[EmailID]=', 'anil@gmail.com')\n",
            "('user1[Mobile no.]=', '123456789')\n"
          ],
          "name": "stdout"
        }
      ]
    },
    {
      "cell_type": "code",
      "metadata": {
        "id": "y2Cv-50Gwl2q",
        "colab_type": "code",
        "colab": {
          "base_uri": "https://localhost:8080/",
          "height": 68
        },
        "outputId": "1b4a6088-ec3e-4da2-88a4-0fb1ad4ca544"
      },
      "source": [
        "user1={'Name': 'Anil', 'Age': '29','EmailID':'anil@gmail.com','Mobile no.':'123456789'}\n",
        "print(user1['EmailID']);\n",
        "            \n",
        "#Update\n",
        "user1['EmailID']='Anil@gmail.com'\n",
        "print(user1['EmailID'])\n",
        "user1['Address']='Hyderabad'  #New entry\n",
        "print(user1['Address'])"
      ],
      "execution_count": 30,
      "outputs": [
        {
          "output_type": "stream",
          "text": [
            "anil@gmail.com\n",
            "Anil@gmail.com\n",
            "Hyderabad\n"
          ],
          "name": "stdout"
        }
      ]
    },
    {
      "cell_type": "code",
      "metadata": {
        "id": "TqfUyZMRXWha",
        "colab_type": "code",
        "colab": {}
      },
      "source": [
        "user1={'Name': 'Anil', 'Age': '29','EmailID':'anil@gmail.com','Mobile no.':'123456789'}\n",
        "del user1['EmailID'];\n",
        "user1.clear()\n",
        "del user1"
      ],
      "execution_count": 0,
      "outputs": []
    },
    {
      "cell_type": "code",
      "metadata": {
        "id": "QUUmu8X8XZno",
        "colab_type": "code",
        "colab": {
          "base_uri": "https://localhost:8080/",
          "height": 51
        },
        "outputId": "851c9fe6-4200-49c5-d08d-718fcb9a784c"
      },
      "source": [
        "user1={'Name': 'Anil', 'Age': '29','EmailID':'anil@gmail.com','Mobile no.':'123456789'}\n",
        "print(len(user1));\n",
        "user1['Address']='Hyerabad'\n",
        "print(len(user1))"
      ],
      "execution_count": 32,
      "outputs": [
        {
          "output_type": "stream",
          "text": [
            "4\n",
            "5\n"
          ],
          "name": "stdout"
        }
      ]
    },
    {
      "cell_type": "code",
      "metadata": {
        "id": "n5IgBZAxXcgK",
        "colab_type": "code",
        "colab": {
          "base_uri": "https://localhost:8080/",
          "height": 85
        },
        "outputId": "db4822f8-534f-49fe-cb93-597f27d2c9ce"
      },
      "source": [
        "\n",
        "user1={'Name': 'Anil', 'Age': '29','EmailID':'anil@gmail.com','Mobile no.':'123456789'}\n",
        "user2=user1.copy()\n",
        "\n",
        "print(user1)\n",
        "print(user2)\n",
        "user1['Address']='Hyderabad'\n",
        "print(user1)\n",
        "print(user2)\n",
        "\n"
      ],
      "execution_count": 33,
      "outputs": [
        {
          "output_type": "stream",
          "text": [
            "{'EmailID': 'anil@gmail.com', 'Mobile no.': '123456789', 'Age': '29', 'Name': 'Anil'}\n",
            "{'EmailID': 'anil@gmail.com', 'Mobile no.': '123456789', 'Age': '29', 'Name': 'Anil'}\n",
            "{'EmailID': 'anil@gmail.com', 'Mobile no.': '123456789', 'Age': '29', 'Name': 'Anil', 'Address': 'Hyderabad'}\n",
            "{'EmailID': 'anil@gmail.com', 'Mobile no.': '123456789', 'Age': '29', 'Name': 'Anil'}\n"
          ],
          "name": "stdout"
        }
      ]
    },
    {
      "cell_type": "code",
      "metadata": {
        "id": "i9c5DxwEb-uA",
        "colab_type": "code",
        "colab": {
          "base_uri": "https://localhost:8080/",
          "height": 34
        },
        "outputId": "eec412ad-72cb-4256-c396-f6b696474dd5"
      },
      "source": [
        "\n",
        "list=['python','programming']\n",
        "print(\"%s %s\"%(list[0],list[1]))"
      ],
      "execution_count": 34,
      "outputs": [
        {
          "output_type": "stream",
          "text": [
            "python programming\n"
          ],
          "name": "stdout"
        }
      ]
    },
    {
      "cell_type": "code",
      "metadata": {
        "id": "aUD9wOyPcWHA",
        "colab_type": "code",
        "colab": {
          "base_uri": "https://localhost:8080/",
          "height": 34
        },
        "outputId": "bb690387-c30e-4861-dbde-c7a54ff60dd1"
      },
      "source": [
        "print('Hello!2@#World'.istitle())"
      ],
      "execution_count": 35,
      "outputs": [
        {
          "output_type": "stream",
          "text": [
            "True\n"
          ],
          "name": "stdout"
        }
      ]
    },
    {
      "cell_type": "code",
      "metadata": {
        "id": "Sh87mtWPq25n",
        "colab_type": "code",
        "colab": {
          "base_uri": "https://localhost:8080/",
          "height": 163
        },
        "outputId": "cb450917-310e-4d44-a5d0-d9a2195ac555"
      },
      "source": [
        "print('1.1'.isnumeric()) "
      ],
      "execution_count": 36,
      "outputs": [
        {
          "output_type": "error",
          "ename": "AttributeError",
          "evalue": "ignored",
          "traceback": [
            "\u001b[0;31m\u001b[0m",
            "\u001b[0;31mAttributeError\u001b[0mTraceback (most recent call last)",
            "\u001b[0;32m<ipython-input-36-6b8dff362a90>\u001b[0m in \u001b[0;36m<module>\u001b[0;34m()\u001b[0m\n\u001b[0;32m----> 1\u001b[0;31m \u001b[0;32mprint\u001b[0m\u001b[0;34m(\u001b[0m\u001b[0;34m'1.1'\u001b[0m\u001b[0;34m.\u001b[0m\u001b[0misnumeric\u001b[0m\u001b[0;34m(\u001b[0m\u001b[0;34m)\u001b[0m\u001b[0;34m)\u001b[0m\u001b[0;34m\u001b[0m\u001b[0;34m\u001b[0m\u001b[0m\n\u001b[0m",
            "\u001b[0;31mAttributeError\u001b[0m: 'str' object has no attribute 'isnumeric'"
          ]
        }
      ]
    },
    {
      "cell_type": "code",
      "metadata": {
        "id": "5L5zpPMUq76G",
        "colab_type": "code",
        "colab": {
          "base_uri": "https://localhost:8080/",
          "height": 34
        },
        "outputId": "b66690d0-e15b-485f-9794-2c3eb614bbcc"
      },
      "source": [
        "print('1.1'.isdigit())"
      ],
      "execution_count": 39,
      "outputs": [
        {
          "output_type": "stream",
          "text": [
            "False\n"
          ],
          "name": "stdout"
        }
      ]
    },
    {
      "cell_type": "code",
      "metadata": {
        "id": "_o7VCg4FrA20",
        "colab_type": "code",
        "colab": {
          "base_uri": "https://localhost:8080/",
          "height": 34
        },
        "outputId": "d7f043e2-e88c-4c22-9cbe-5b91e2cad53f"
      },
      "source": [
        "print('abcdefcdghcd'.split('cd', 2))"
      ],
      "execution_count": 38,
      "outputs": [
        {
          "output_type": "stream",
          "text": [
            "['ab', 'ef', 'ghcd']\n"
          ],
          "name": "stdout"
        }
      ]
    },
    {
      "cell_type": "code",
      "metadata": {
        "id": "Qm1YjnODrHCu",
        "colab_type": "code",
        "colab": {
          "base_uri": "https://localhost:8080/",
          "height": 68
        },
        "outputId": "0ec83eda-7427-4cfc-9ebc-c0642e5c7256"
      },
      "source": [
        "contacts={}\n",
        "def addContact(name,phone):\n",
        "    #verify that the contact doesnot already exists\n",
        "    if name not in contacts:\n",
        "      \n",
        "      print(\"Contact %s added\" % name)\n",
        "    else:\n",
        "      print(\"Contact %s already exists\" % name)\n",
        "    return\n",
        "addContact(\"Anil\",8467987563)\n",
        "addContact(\"Harsha\",764985987)\n",
        "addContact(\"Anil\",456798086)"
      ],
      "execution_count": 47,
      "outputs": [
        {
          "output_type": "stream",
          "text": [
            "Contact Anil added\n",
            "Contact Harsha added\n",
            "Contact Anil added\n"
          ],
          "name": "stdout"
        }
      ]
    },
    {
      "cell_type": "code",
      "metadata": {
        "id": "pWehQEM_A-hy",
        "colab_type": "code",
        "colab": {
          "base_uri": "https://localhost:8080/",
          "height": 85
        },
        "outputId": "12b92a2a-406a-4c0c-e5f1-92f81fbd9227"
      },
      "source": [
        "\n",
        "# search for a particular contact from contact list\n",
        "def searchContact(name):\n",
        "    if name in contacts:\n",
        "        print(name,\" : \",contacts[name])\n",
        "    else:\n",
        "        print(\"%s does not exists\" % name)\n",
        "    return\n",
        "searchContact(\"Anil\")\n",
        "searchContact(\"Ajay\")\n",
        "searchContact(\"Harsha\")\n",
        "searchContact(\"Kranth\")\n"
      ],
      "execution_count": 48,
      "outputs": [
        {
          "output_type": "stream",
          "text": [
            "Anil does not exists\n",
            "Ajay does not exists\n",
            "Harsha does not exists\n",
            "Kranth does not exists\n"
          ],
          "name": "stdout"
        }
      ]
    },
    {
      "cell_type": "code",
      "metadata": {
        "id": "QMygguplIESF",
        "colab_type": "code",
        "colab": {
          "base_uri": "https://localhost:8080/",
          "height": 85
        },
        "outputId": "0a14b9e9-15d9-4338-a273-67816cf56c28"
      },
      "source": [
        "def searchContact(name):\n",
        "    if name in contacts:\n",
        "        print(name,\" : \",contacts[name])\n",
        "    else:\n",
        "        print(\"%s does not exists\"% name)\n",
        "    return\n",
        "searchContact(\"Anil\")\n",
        "searchContact(\"Ajay\")\n",
        "searchContact(\"Harsha\")\n",
        "searchContact(\"Kranth\")"
      ],
      "execution_count": 49,
      "outputs": [
        {
          "output_type": "stream",
          "text": [
            "Anil does not exists\n",
            "Ajay does not exists\n",
            "Harsha does not exists\n",
            "Kranth does not exists\n"
          ],
          "name": "stdout"
        }
      ]
    },
    {
      "cell_type": "code",
      "metadata": {
        "id": "veotV1t8Ohn1",
        "colab_type": "code",
        "colab": {
          "base_uri": "https://localhost:8080/",
          "height": 34
        },
        "outputId": "f2e05fc7-5e12-40df-87d2-024ff2de3bc3"
      },
      "source": [
        "\n",
        "def importContacts(newContacts):\n",
        "    contacts.update(newContacts)\n",
        "    print(len(newContacts.keys()),\"Contacts added successful\");\n",
        "    return;\n",
        "\n",
        "newContacts={'Dinesh':45674578,'Ajay':894577387}\n",
        "importContacts(newContacts)"
      ],
      "execution_count": 50,
      "outputs": [
        {
          "output_type": "stream",
          "text": [
            "(2, 'Contacts added successful')\n"
          ],
          "name": "stdout"
        }
      ]
    },
    {
      "cell_type": "code",
      "metadata": {
        "id": "tfbZ4baeOxYO",
        "colab_type": "code",
        "colab": {
          "base_uri": "https://localhost:8080/",
          "height": 51
        },
        "outputId": "858bed17-8869-4345-e64f-10a2f9cbb5a7"
      },
      "source": [
        "\n",
        "def deletecontact(name):\n",
        "    if name in contacts:\n",
        "        del contacts[name]\n",
        "        print(name,\": is deleted from the contacts\")\n",
        "    else:\n",
        "        print(name,\": is not exists in the contacts\")\n",
        "    return\n",
        "deletecontact(\"Harsha\")\n",
        "deletecontact(\"Naveen\")"
      ],
      "execution_count": 51,
      "outputs": [
        {
          "output_type": "stream",
          "text": [
            "('Harsha', ': is not exists in the contacts')\n",
            "('Naveen', ': is not exists in the contacts')\n"
          ],
          "name": "stdout"
        }
      ]
    },
    {
      "cell_type": "code",
      "metadata": {
        "id": "xjalScpsO21l",
        "colab_type": "code",
        "colab": {
          "base_uri": "https://localhost:8080/",
          "height": 51
        },
        "outputId": "cfabc6b9-4944-445f-e552-09db693ce75d"
      },
      "source": [
        "\n",
        "def updatecontact(name,phone):\n",
        "    if name in contacts:\n",
        "        contacts[name]=phone\n",
        "        print(name,\": updated with new phone number\")\n",
        "    else:\n",
        "        print(name,\": not exists in the contacts\")\n",
        "    return\n",
        "updatecontact(\"Harsha\",9983645331)\n",
        "updatecontact(\"Anil\",9847560404)\n"
      ],
      "execution_count": 52,
      "outputs": [
        {
          "output_type": "stream",
          "text": [
            "('Harsha', ': not exists in the contacts')\n",
            "('Anil', ': not exists in the contacts')\n"
          ],
          "name": "stdout"
        }
      ]
    },
    {
      "cell_type": "code",
      "metadata": {
        "id": "O-eMn61ePVMl",
        "colab_type": "code",
        "colab": {
          "base_uri": "https://localhost:8080/",
          "height": 34
        },
        "outputId": "83bc690e-d0ed-4756-de33-95a871f7e77e"
      },
      "source": [
        "\n",
        "lst=[1, 2, 3, 4]\n",
        "print(\"%d %d %d %d\"%(lst[0],lst[1],lst[2],lst[3]))\n",
        "\n",
        "\n",
        "\n"
      ],
      "execution_count": 55,
      "outputs": [
        {
          "output_type": "stream",
          "text": [
            "1 2 3 4\n"
          ],
          "name": "stdout"
        }
      ]
    },
    {
      "cell_type": "code",
      "metadata": {
        "id": "4kpY_rYcP7Sn",
        "colab_type": "code",
        "colab": {
          "base_uri": "https://localhost:8080/",
          "height": 51
        },
        "outputId": "8c940b89-70ed-422e-841f-200fcff2e434"
      },
      "source": [
        "lst=[1,2,3,4]\n",
        "print(\"Value at : {0} Value at : {1}\".format(lst[0],lst[1]))\n",
        "print(\"Value at : {0} Value at : {1}\".format(lst[2],lst[3]))"
      ],
      "execution_count": 54,
      "outputs": [
        {
          "output_type": "stream",
          "text": [
            "Value at : 1 Value at : 2\n",
            "Value at : 3 Value at : 4\n"
          ],
          "name": "stdout"
        }
      ]
    },
    {
      "cell_type": "markdown",
      "metadata": {
        "id": "fIHrCIY2R8u_",
        "colab_type": "text"
      },
      "source": [
        "**standard lib** **math**"
      ]
    },
    {
      "cell_type": "code",
      "metadata": {
        "id": "BjRCsaMhR8dC",
        "colab_type": "code",
        "colab": {}
      },
      "source": [
        ""
      ],
      "execution_count": 0,
      "outputs": []
    },
    {
      "cell_type": "code",
      "metadata": {
        "id": "uLbD-meFQAt2",
        "colab_type": "code",
        "colab": {}
      },
      "source": [
        ""
      ],
      "execution_count": 0,
      "outputs": []
    }
  ]
}