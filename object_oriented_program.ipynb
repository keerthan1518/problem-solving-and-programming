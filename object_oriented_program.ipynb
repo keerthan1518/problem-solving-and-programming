{
  "nbformat": 4,
  "nbformat_minor": 0,
  "metadata": {
    "colab": {
      "name": "object oriented program.ipynb",
      "version": "0.3.2",
      "provenance": [],
      "collapsed_sections": []
    },
    "kernelspec": {
      "name": "python3",
      "display_name": "Python 3"
    }
  },
  "cells": [
    {
      "cell_type": "code",
      "metadata": {
        "id": "WB5X4aQaQ_W9",
        "colab_type": "code",
        "outputId": "273271ce-ffcb-4a62-dc95-9ede2a82c979",
        "colab": {
          "base_uri": "https://localhost:8080/",
          "height": 34
        }
      },
      "source": [
        "def test():\n",
        "    print(\"test() for function\")\n",
        "    return\n",
        "test()"
      ],
      "execution_count": 0,
      "outputs": [
        {
          "output_type": "stream",
          "text": [
            "test() for function\n"
          ],
          "name": "stdout"
        }
      ]
    },
    {
      "cell_type": "code",
      "metadata": {
        "id": "q1CTSlOhRImb",
        "colab_type": "code",
        "outputId": "4add4d8b-27e2-40f0-ec94-0dbb5eb41c9a",
        "colab": {
          "base_uri": "https://localhost:8080/",
          "height": 34
        }
      },
      "source": [
        "\n",
        "class demo:\n",
        "    def test(self):\n",
        "        print(\"test() for the class and method\")\n",
        "        return\n",
        "obj=demo()\n",
        "obj.test()"
      ],
      "execution_count": 0,
      "outputs": [
        {
          "output_type": "stream",
          "text": [
            "test() for the class and method\n"
          ],
          "name": "stdout"
        }
      ]
    },
    {
      "cell_type": "code",
      "metadata": {
        "id": "MZuKuyfUY7qY",
        "colab_type": "code",
        "outputId": "a6108769-813f-4e3d-89d0-8fdb9b20bb6a",
        "colab": {
          "base_uri": "https://localhost:8080/",
          "height": 34
        }
      },
      "source": [
        "class demo1:\n",
        "    def fact(self,n):\n",
        "        #return the factorial\n",
        "        fact=1\n",
        "        while(n!=0):\n",
        "            fact=fact*n\n",
        "            n=n-1\n",
        "        return fact\n",
        "    \n",
        "p1=demo1()\n",
        "print(p1.fact(5))\n"
      ],
      "execution_count": 0,
      "outputs": [
        {
          "output_type": "stream",
          "text": [
            "120\n"
          ],
          "name": "stdout"
        }
      ]
    },
    {
      "cell_type": "code",
      "metadata": {
        "id": "B9fLyGnkZA11",
        "colab_type": "code",
        "outputId": "d54d8c16-a703-4980-d94d-1b83eff9225d",
        "colab": {
          "base_uri": "https://localhost:8080/",
          "height": 51
        }
      },
      "source": [
        "\n",
        "class demo2:\n",
        "    def accept(self,p1,p2):\n",
        "        self.p1=p1\n",
        "        self.p2=p2\n",
        "        return\n",
        "    def display(s):\n",
        "        print(\"p1=\",s.p1)\n",
        "        print(\"p2=\",s.p2)\n",
        "        \n",
        "c1=demo2()\n",
        "c1.accept(10,20)\n",
        "c1.display()\n",
        "\n"
      ],
      "execution_count": 0,
      "outputs": [
        {
          "output_type": "stream",
          "text": [
            "p1= 10\n",
            "p2= 20\n"
          ],
          "name": "stdout"
        }
      ]
    },
    {
      "cell_type": "code",
      "metadata": {
        "id": "ly9_YoOzZRm0",
        "colab_type": "code",
        "outputId": "82f471fd-266a-4b5f-d157-99257e72734b",
        "colab": {
          "base_uri": "https://localhost:8080/",
          "height": 34
        }
      },
      "source": [
        "\n",
        "class Demo2:\n",
        "    def __init__(self,p1,p2):\n",
        "        self.p1=p1\n",
        "        self.p2=p2\n",
        "        \n",
        "    def add(self,p1,p2):\n",
        "        return p1+p2\n",
        "    \n",
        "c1=Demo2(10,20)\n",
        "print(c1.add(100,200))\n",
        "\n"
      ],
      "execution_count": 0,
      "outputs": [
        {
          "output_type": "stream",
          "text": [
            "300\n"
          ],
          "name": "stdout"
        }
      ]
    },
    {
      "cell_type": "code",
      "metadata": {
        "id": "NnigCmONaMSQ",
        "colab_type": "code",
        "colab": {}
      },
      "source": [
        "class Person():\n",
        "    #Contructor\n",
        "    def __init__(self,name):\n",
        "        self.name=name\n",
        "    def getName(self):\n",
        "        return self.name\n",
        "    def isEmployee(self):\n",
        "        return False"
      ],
      "execution_count": 0,
      "outputs": []
    },
    {
      "cell_type": "code",
      "metadata": {
        "id": "c6_nGeFxz4LO",
        "colab_type": "code",
        "outputId": "44360fd4-d4cb-4c2e-9632-917f712b9716",
        "colab": {
          "base_uri": "https://localhost:8080/",
          "height": 51
        }
      },
      "source": [
        "\n",
        "# Derived Class\n",
        "class Employee(Person):\n",
        "    def isEmployee(self):\n",
        "        return True\n",
        "    \n",
        "emp=Person(\"Ank\")\n",
        "print(emp.getName(),emp.isEmployee())\n",
        "\n",
        "emp1=Employee(\"Sra\")\n",
        "print(emp1.getName(),emp1.isEmployee())\n",
        "\n"
      ],
      "execution_count": 0,
      "outputs": [
        {
          "output_type": "stream",
          "text": [
            "Ank False\n",
            "Sra True\n"
          ],
          "name": "stdout"
        }
      ]
    },
    {
      "cell_type": "code",
      "metadata": {
        "id": "eY6LCKcB0Gfk",
        "colab_type": "code",
        "outputId": "b8b4ef0e-66ac-4efd-a66a-9c8037d0ce89",
        "colab": {
          "base_uri": "https://localhost:8080/",
          "height": 34
        }
      },
      "source": [
        "list=[1,2,3,4]\n",
        "print(list)"
      ],
      "execution_count": 0,
      "outputs": [
        {
          "output_type": "stream",
          "text": [
            "[1, 2, 3, 4]\n"
          ],
          "name": "stdout"
        }
      ]
    },
    {
      "cell_type": "code",
      "metadata": {
        "id": "y4I9vnhH3BDO",
        "colab_type": "code",
        "outputId": "67dcedd0-836a-4ef3-fc6e-d8ba351f405b",
        "colab": {
          "base_uri": "https://localhost:8080/",
          "height": 34
        }
      },
      "source": [
        "import numpy as np\n",
        "lst=[1,2,3,4]\n",
        "array=np.array(lst)\n",
        "print(array)"
      ],
      "execution_count": 0,
      "outputs": [
        {
          "output_type": "stream",
          "text": [
            "[1 2 3 4]\n"
          ],
          "name": "stdout"
        }
      ]
    },
    {
      "cell_type": "code",
      "metadata": {
        "id": "gEbRPHtS3ojz",
        "colab_type": "code",
        "outputId": "596930f4-5277-49e2-ffa3-976cfeb7c6f2",
        "colab": {
          "base_uri": "https://localhost:8080/",
          "height": 34
        }
      },
      "source": [
        "\n",
        "lst=[1,2,3,4]\n",
        "array=np.array(lst)\n",
        "array+10\n",
        "print(array)"
      ],
      "execution_count": 0,
      "outputs": [
        {
          "output_type": "stream",
          "text": [
            "[1 2 3 4]\n"
          ],
          "name": "stdout"
        }
      ]
    },
    {
      "cell_type": "code",
      "metadata": {
        "id": "M47a_blI3r_7",
        "colab_type": "code",
        "outputId": "3b353dcd-64ef-46ba-c071-2acf256013bd",
        "colab": {
          "base_uri": "https://localhost:8080/",
          "height": 51
        }
      },
      "source": [
        "\n",
        "lst=[1,2,3,4]\n",
        "array=np.array(lst)\n",
        "print(array.shape)\n",
        "print(array.dtype)"
      ],
      "execution_count": 0,
      "outputs": [
        {
          "output_type": "stream",
          "text": [
            "(4,)\n",
            "int64\n"
          ],
          "name": "stdout"
        }
      ]
    },
    {
      "cell_type": "code",
      "metadata": {
        "id": "y7R99ERS3w7z",
        "colab_type": "code",
        "outputId": "64f0f145-4032-4597-9b98-050c77a2472f",
        "colab": {
          "base_uri": "https://localhost:8080/",
          "height": 51
        }
      },
      "source": [
        "a1=np.array([(1,2,3),(4,5,6)])\n",
        "print(a1.shape)\n",
        "a2=np.array([(1,2),(3,4),(5,6)])\n",
        "print(a2.shape)"
      ],
      "execution_count": 0,
      "outputs": [
        {
          "output_type": "stream",
          "text": [
            "(2, 3)\n",
            "(3, 2)\n"
          ],
          "name": "stdout"
        }
      ]
    },
    {
      "cell_type": "code",
      "metadata": {
        "id": "T8VOGC5X4aMj",
        "colab_type": "code",
        "outputId": "811eb6a3-58af-458d-ad74-4dfe775c98e8",
        "colab": {
          "base_uri": "https://localhost:8080/",
          "height": 85
        }
      },
      "source": [
        "A=np.matrix(np.ones((4,4),dtype=np.int64))\n",
        "np.asarray(A)[2]=5\n",
        "print(A)"
      ],
      "execution_count": 0,
      "outputs": [
        {
          "output_type": "stream",
          "text": [
            "[[1 1 1 1]\n",
            " [1 1 1 1]\n",
            " [5 5 5 5]\n",
            " [1 1 1 1]]\n"
          ],
          "name": "stdout"
        }
      ]
    },
    {
      "cell_type": "code",
      "metadata": {
        "id": "DDDHp5U2SpmV",
        "colab_type": "code",
        "outputId": "4d4da7c1-70e1-4e9f-ae8f-77a79a6ddb69",
        "colab": {
          "base_uri": "https://localhost:8080/",
          "height": 85
        }
      },
      "source": [
        "\n",
        "\n",
        "A=np.matrix(np.ones((4,4),dtype=np.int64))\n",
        "np.asarray(A)[1][3]=14\n",
        "np.asarray(A)[3][3]=16\n",
        "print(A)"
      ],
      "execution_count": 0,
      "outputs": [
        {
          "output_type": "stream",
          "text": [
            "[[ 1  1  1  1]\n",
            " [ 1  1  1 14]\n",
            " [ 1  1  1  1]\n",
            " [ 1  1  1 16]]\n"
          ],
          "name": "stdout"
        }
      ]
    },
    {
      "cell_type": "code",
      "metadata": {
        "id": "vkt0nZTsSywj",
        "colab_type": "code",
        "outputId": "ec9d6688-a72b-464c-befa-461677c3179d",
        "colab": {
          "base_uri": "https://localhost:8080/",
          "height": 34
        }
      },
      "source": [
        "\n",
        "import numpy as np\n",
        "np.arange(1,10)"
      ],
      "execution_count": 0,
      "outputs": [
        {
          "output_type": "execute_result",
          "data": {
            "text/plain": [
              "array([1, 2, 3, 4, 5, 6, 7, 8, 9])"
            ]
          },
          "metadata": {
            "tags": []
          },
          "execution_count": 20
        }
      ]
    },
    {
      "cell_type": "code",
      "metadata": {
        "id": "HCaNd7HJS33E",
        "colab_type": "code",
        "outputId": "2da41849-c951-4ada-a01d-910542fc895a",
        "colab": {
          "base_uri": "https://localhost:8080/",
          "height": 34
        }
      },
      "source": [
        "\n",
        "np.arange(1,100,9)"
      ],
      "execution_count": 0,
      "outputs": [
        {
          "output_type": "execute_result",
          "data": {
            "text/plain": [
              "array([ 1, 10, 19, 28, 37, 46, 55, 64, 73, 82, 91])"
            ]
          },
          "metadata": {
            "tags": []
          },
          "execution_count": 21
        }
      ]
    },
    {
      "cell_type": "code",
      "metadata": {
        "id": "iR-eUQ1AS9Zl",
        "colab_type": "code",
        "outputId": "d8a2909e-71da-4dd5-8c32-84d42ac4dd59",
        "colab": {
          "base_uri": "https://localhost:8080/",
          "height": 34
        }
      },
      "source": [
        "\n",
        "np.arange(2,20,2)\n",
        "np.arange(1,25,2)"
      ],
      "execution_count": 0,
      "outputs": [
        {
          "output_type": "execute_result",
          "data": {
            "text/plain": [
              "array([ 1,  3,  5,  7,  9, 11, 13, 15, 17, 19, 21, 23])"
            ]
          },
          "metadata": {
            "tags": []
          },
          "execution_count": 22
        }
      ]
    },
    {
      "cell_type": "code",
      "metadata": {
        "id": "vzw9ZFGSTc6b",
        "colab_type": "code",
        "outputId": "a19c6333-55a1-49e5-cc48-380af0408ce3",
        "colab": {
          "base_uri": "https://localhost:8080/",
          "height": 51
        }
      },
      "source": [
        "a1=np.array([(1,2,3),(4,5,6)])\n",
        "print(a1)"
      ],
      "execution_count": 0,
      "outputs": [
        {
          "output_type": "stream",
          "text": [
            "[[1 2 3]\n",
            " [4 5 6]]\n"
          ],
          "name": "stdout"
        }
      ]
    },
    {
      "cell_type": "code",
      "metadata": {
        "id": "l6E86lBFVTLV",
        "colab_type": "code",
        "colab": {
          "base_uri": "https://localhost:8080/",
          "height": 34
        },
        "outputId": "715dfcc2-170e-4742-9b7e-5b803d39f7e7"
      },
      "source": [
        "a1=np.array([(1,2,3),(4,5,6)])\n",
        "print(\"Slicing Column: \",a1[:,1])\n"
      ],
      "execution_count": 25,
      "outputs": [
        {
          "output_type": "stream",
          "text": [
            "Slicing Column:  [2 5]\n"
          ],
          "name": "stdout"
        }
      ]
    },
    {
      "cell_type": "code",
      "metadata": {
        "id": "PYo-bwHXXqU2",
        "colab_type": "code",
        "colab": {
          "base_uri": "https://localhost:8080/",
          "height": 34
        },
        "outputId": "0d5864dd-f5b9-4299-902d-73dee5cc9020"
      },
      "source": [
        "\n",
        "a1=np.array([(1,2,3),(4,5,6)])\n",
        "print(\"Slicing Last Column: \",a1[:,2])"
      ],
      "execution_count": 26,
      "outputs": [
        {
          "output_type": "stream",
          "text": [
            "Slicing Last Column:  [3 6]\n"
          ],
          "name": "stdout"
        }
      ]
    },
    {
      "cell_type": "code",
      "metadata": {
        "id": "dVNjeC3vYB2l",
        "colab_type": "code",
        "colab": {
          "base_uri": "https://localhost:8080/",
          "height": 119
        },
        "outputId": "cfc54497-f69c-4efb-f29b-5940d072c284"
      },
      "source": [
        "a1=np.random.normal(5,1,10)\n",
        "print(a1)\n",
        "print(\"Min Value =\",np.min(a1))\n",
        "print(\"Max Value =\",np.max(a1))\n",
        "print(\"Mean Value =\",np.mean(a1))\n",
        "print(\"Median Value =\",np.median(a1))"
      ],
      "execution_count": 27,
      "outputs": [
        {
          "output_type": "stream",
          "text": [
            "[4.21244746 3.43427112 3.48838479 6.59057099 4.56371055 5.22609823\n",
            " 5.96639758 5.91039533 5.48803095 4.93007058]\n",
            "Min Value = 3.434271120900519\n",
            "Max Value = 6.590570989938831\n",
            "Mean Value = 4.98103775810284\n",
            "Median Value = 5.078084404283756\n"
          ],
          "name": "stdout"
        }
      ]
    },
    {
      "cell_type": "code",
      "metadata": {
        "id": "Sz8CE0oXYIPR",
        "colab_type": "code",
        "colab": {}
      },
      "source": [
        ""
      ],
      "execution_count": 0,
      "outputs": []
    }
  ]
}