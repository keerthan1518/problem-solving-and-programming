{
 "cells": [
  {
   "cell_type": "markdown",
   "metadata": {},
   "source": [
    "# Example 1"
   ]
  },
  {
   "cell_type": "code",
   "execution_count": 1,
   "metadata": {},
   "outputs": [
    {
     "name": "stdout",
     "output_type": "stream",
     "text": [
      "90\n"
     ]
    }
   ],
   "source": [
    "def printevn(n):\n",
    "    cnt=0;\n",
    "    sum=0;\n",
    "    while(cnt!=n):\n",
    "        if(cnt%2==0):\n",
    "            sum=sum+cnt;\n",
    "        cnt=cnt+1;\n",
    "    return sum;\n",
    "    \n",
    "print(printevn(20));"
   ]
  },
  {
   "cell_type": "code",
   "execution_count": 7,
   "metadata": {},
   "outputs": [
    {
     "name": "stdout",
     "output_type": "stream",
     "text": [
      "1 2 3 4 6 "
     ]
    }
   ],
   "source": [
    "def factorslist(n):\n",
    "    i=1;\n",
    "    while(i!=n):\n",
    "        if(n%i==0):\n",
    "            print(i,end=\" \");\n",
    "        i=i+1;\n",
    "    return;\n",
    "\n",
    "    \n",
    "factorslist(12);\n",
    "        "
   ]
  },
  {
   "cell_type": "markdown",
   "metadata": {},
   "source": [
    "# lists in python"
   ]
  },
  {
   "cell_type": "markdown",
   "metadata": {},
   "source": [
    "# examples of list "
   ]
  },
  {
   "cell_type": "code",
   "execution_count": 8,
   "metadata": {},
   "outputs": [
    {
     "name": "stdout",
     "output_type": "stream",
     "text": [
      "[1, 2, 3, 4, 5]\n",
      "1\n"
     ]
    }
   ],
   "source": [
    "list1=[1,2,3,4,5,];\n",
    "#Entire list\n",
    "print(list1);\n",
    "#list[0]\n",
    "print(list1[0])"
   ]
  },
  {
   "cell_type": "markdown",
   "metadata": {},
   "source": [
    "# list examples with particular index"
   ]
  },
  {
   "cell_type": "code",
   "execution_count": 12,
   "metadata": {},
   "outputs": [
    {
     "name": "stdout",
     "output_type": "stream",
     "text": [
      "1 2 3 4 5 6 7 \n",
      "5\n",
      "[4, 5, 6, 7]\n",
      "[1, 2, 3]\n",
      "[1, 2, 3]\n",
      "[1, 2, 3, 4, 5, 6, 7]\n"
     ]
    }
   ],
   "source": [
    "list1=[1,2,3,4,5,6,7]\n",
    "for x in list1:\n",
    "    print(x,end=\" \")\n",
    "    \n",
    "print();\n",
    "print(list1[4]);\n",
    "print(list1[3:7]);\n",
    "print(list1[0:3]);\n",
    "print(list1[:3]);\n",
    "print(list1[:7]);"
   ]
  },
  {
   "cell_type": "code",
   "execution_count": 1,
   "metadata": {},
   "outputs": [
    {
     "name": "stdout",
     "output_type": "stream",
     "text": [
      "1 2 3 4 5 6 7 8 9 10 \n",
      "[2, 3, 4, 5, 6, 7, 8, 9]\n",
      "[3, 4, 5, 6, 7, 8]\n",
      "[1, 3, 5, 7, 9]\n",
      "[1, 4, 7, 10]\n",
      "[1, 5, 9]\n",
      "[10, 8, 6, 4, 2]\n"
     ]
    }
   ],
   "source": [
    "list1=[1,2,3,4,5,6,7,8,9,10];\n",
    "for x in list1:\n",
    "    print(x,end=\" \");\n",
    "    \n",
    "print();\n",
    "print(list1[1:-1]);\n",
    "print(list1[2:-2]);\n",
    "print(list1[::2]);\n",
    "print(list1[::3]);\n",
    "print(list1[::4]);\n",
    "print(list1[::-2]);"
   ]
  },
  {
   "cell_type": "markdown",
   "metadata": {},
   "source": [
    "# list with range() function "
   ]
  },
  {
   "cell_type": "code",
   "execution_count": 2,
   "metadata": {},
   "outputs": [
    {
     "name": "stdout",
     "output_type": "stream",
     "text": [
      "['Anil', 'Adarsh', 'Akhil', 1]\n",
      "['Anil', 'Adarsh', 15, 1]\n",
      "['Anil', 'Adarsh', 15]\n",
      "['Anil', 'gitam', 15]\n",
      "[1, 2, 3]\n",
      "['Anil', 'gitam', 15, 1, 2, 3]\n"
     ]
    }
   ],
   "source": [
    "list1=[\"Anil\",\"Adarsh\",\"Akhil\",1];\n",
    "print(list1);\n",
    "list1[2]=15; \n",
    "print(list1);\n",
    "del list1[3];# delete the list item\n",
    "print(list1);\n",
    "list1[1]=\"gitam\";\n",
    "print(list1);\n",
    "list2=[1,2,3];\n",
    "print(list2);\n",
    "print(list1+list2);"
   ]
  },
  {
   "cell_type": "code",
   "execution_count": 1,
   "metadata": {},
   "outputs": [
    {
     "name": "stdout",
     "output_type": "stream",
     "text": [
      "[1, 2, 3, 4, 5]\n",
      "[1, 2, 4, 5]\n",
      "4\n",
      "[1, 2, 4, 5, 15, 150, 1, 3]\n",
      "2\n",
      "1\n"
     ]
    }
   ],
   "source": [
    "\n",
    "list1=[1,2,3,4,5];\n",
    "print(list1);\n",
    "del list1[2];\n",
    "print(list1);\n",
    "#list1[4]=15;\n",
    "print(len(list1));\n",
    "list1.append(15);\n",
    "list1.append(150);\n",
    "list1.append(1);\n",
    "list1.append(3);\n",
    "print(list1);\n",
    "print(list1.count(1));\n",
    "print(list1.count(3));\n",
    "\n"
   ]
  },
  {
   "cell_type": "code",
   "execution_count": 2,
   "metadata": {},
   "outputs": [
    {
     "name": "stdout",
     "output_type": "stream",
     "text": [
      "['gitam', 'python', 'Raptor', 1, 5, 'python', 'python']\n",
      "7\n",
      "['gitam', 'python', 2019, 'Raptor', 1, 5, 'python', 'python']\n",
      "8\n",
      "['gitam', 'python', 2019, 'Raptor', 2020, 1, 5, 'python', 'python']\n"
     ]
    }
   ],
   "source": [
    "list1=[\"gitam\",\"python\",\"Raptor\",1,5,\"python\",\"python\"]\n",
    "print(list1)\n",
    "list1.index(\"python\")\n",
    "list1.index(1)\n",
    "print(len(list1))\n",
    "list1.insert(2,2019)\n",
    "print(list1)\n",
    "print(len(list1))       \n",
    "list1.insert(4,2020)\n",
    "print(list1)       "
   ]
  },
  {
   "cell_type": "code",
   "execution_count": 5,
   "metadata": {},
   "outputs": [
    {
     "name": "stdout",
     "output_type": "stream",
     "text": [
      "['gitam', 'python', 'Raptor', 1, 5, 'python', 'python']\n",
      "['gitam', 'Raptor', 1, 5, 'python', 'python']\n",
      "['gitam', 'Raptor', 1, 5, 'python']\n",
      "['python', 5, 1, 'Raptor', 'gitam']\n"
     ]
    }
   ],
   "source": [
    "list1=[\"gitam\",\"python\",\"Raptor\",1,5,\"python\",\"python\"]\n",
    "print(list1)\n",
    "list1.remove(\"python\")\n",
    "print(list1)\n",
    "list1.remove(\"python\")\n",
    "print(list1)\n",
    " \n",
    "list1.reverse()\n",
    "print(list1)"
   ]
  },
  {
   "cell_type": "markdown",
   "metadata": {},
   "source": [
    "# linear search"
   ]
  },
  {
   "cell_type": "code",
   "execution_count": 1,
   "metadata": {},
   "outputs": [
    {
     "name": "stdout",
     "output_type": "stream",
     "text": [
      "target item is not found\n"
     ]
    }
   ],
   "source": [
    "def linearSearch(a,tarItem):\n",
    "    flag=0;\n",
    "    for i in range(len(a)):\n",
    "        if a[i]==tarItem:\n",
    "            flag=1;\n",
    "        break\n",
    "    if(flag!=0):\n",
    "        print(\"target item is found\" )\n",
    "    else:\n",
    "        print(\"target item is not found\" )\n",
    "        \n",
    "a=[16,2,12,6,9,7,1]\n",
    "linearSearch(a,61)\n"
   ]
  },
  {
   "cell_type": "code",
   "execution_count": 1,
   "metadata": {},
   "outputs": [
    {
     "name": "stdout",
     "output_type": "stream",
     "text": [
      "2\n"
     ]
    }
   ],
   "source": [
    "def linearsearchduplicate(a,taritem):\n",
    "    flag=0\n",
    "    for i in range(len(a)):\n",
    "        if a[i]==taritem:\n",
    "            flag=flag+1\n",
    "            \n",
    "    print(flag)\n",
    "    \n",
    "a=[9,6,1,5,15,16,9]\n",
    "linearsearchduplicate(a,9)"
   ]
  },
  {
   "cell_type": "code",
   "execution_count": 2,
   "metadata": {},
   "outputs": [
    {
     "name": "stdout",
     "output_type": "stream",
     "text": [
      "target item is found\n"
     ]
    }
   ],
   "source": [
    "def linearsearch(a,tarItem):\n",
    "    flag=0;\n",
    "    for i in range(len(a)):\n",
    "        if a[i]==tarItem:\n",
    "            flag=1;\n",
    "            break\n",
    "    if(flag!=0):\n",
    "            print(\"target item is found\")\n",
    "    else:\n",
    "            print(\"target item is not found\")\n",
    "            \n",
    "a=[16,2,12,6,9,7,1]\n",
    "linearsearch(a,6)"
   ]
  },
  {
   "cell_type": "code",
   "execution_count": 4,
   "metadata": {},
   "outputs": [
    {
     "name": "stdout",
     "output_type": "stream",
     "text": [
      "1 3 6 "
     ]
    }
   ],
   "source": [
    "def linearExample1(a,taritem): \n",
    "    for i in range(len(a)):\n",
    "        if a[i]==taritem:\n",
    "             print(i,end=\" \")\n",
    "                \n",
    "a=[1,5,6,5,12,15,5]   \n",
    "linearExample1(a,5)"
   ]
  },
  {
   "cell_type": "code",
   "execution_count": 1,
   "metadata": {},
   "outputs": [
    {
     "name": "stdout",
     "output_type": "stream",
     "text": [
      "! !  ! ! ! ! !  ! ! ! ! ! ! ! !  "
     ]
    }
   ],
   "source": [
    "def linearExample2(a,taritem): \n",
    "    for i in range(len(a)):\n",
    "        if a[i]==taritem:\n",
    "            j=0 \n",
    "            while j!=i+1:\n",
    "                print(\"!\",end=\" \")\n",
    "                j=j+1\n",
    "            print(end=\" \")\n",
    "            \n",
    "a=[1,5,9,6,5,15,12,5]\n",
    "linearExample2(a,5)"
   ]
  },
  {
   "cell_type": "code",
   "execution_count": 1,
   "metadata": {},
   "outputs": [
    {
     "name": "stdout",
     "output_type": "stream",
     "text": [
      "60\n"
     ]
    }
   ],
   "source": [
    "def linear(a):\n",
    "    sum=0;\n",
    "    for i in range(len(a)):\n",
    "        if((a[i]%3==0) and (a[i]%5==0)):\n",
    "            sum=sum+a[i];\n",
    "            i=i+1;\n",
    "        \n",
    "    print(sum);\n",
    "    return sum;\n",
    "\n",
    "a=[15,12,2,9,18,36,45]\n",
    "linear(a);\n"
   ]
  },
  {
   "cell_type": "code",
   "execution_count": 2,
   "metadata": {},
   "outputs": [
    {
     "name": "stdout",
     "output_type": "stream",
     "text": [
      "1  3  8  15  5  "
     ]
    }
   ],
   "source": [
    "def linearformattedop(a):\n",
    "    for i in range(len(a)):\n",
    "        if((i==0) or (i==(len(a)-1))):\n",
    "            print(a[i],end=\"  \");\n",
    "        else:\n",
    "            print(a[i-1]*a[i+1],end=\"  \");\n",
    "            \n",
    "a=[1,2,3,4,5]\n",
    "linearformattedop(a);"
   ]
  },
  {
   "cell_type": "code",
   "execution_count": 3,
   "metadata": {},
   "outputs": [
    {
     "name": "stdout",
     "output_type": "stream",
     "text": [
      "1 9 19 22 "
     ]
    }
   ],
   "source": [
    "def linearformattedoutput(a):\n",
    "    for i in range(len(a)):\n",
    "        if i==0 or (i==len(a)-1):\n",
    "            print(a[i],end=\" \")\n",
    "        elif a[i-1]%2==0 and a[i+1]%2==0:\n",
    "            print(a[i],end=\" \")\n",
    "            \n",
    "a=[1,6,9,4,16,19,22]\n",
    "linearformattedoutput(a)"
   ]
  },
  {
   "cell_type": "code",
   "execution_count": 4,
   "metadata": {},
   "outputs": [
    {
     "name": "stdout",
     "output_type": "stream",
     "text": [
      "enter no: 12\n",
      "[1, 2]\n"
     ]
    }
   ],
   "source": [
    "def noToListConversion(n):\n",
    "    list=[]\n",
    "    while(n!=0):\n",
    "        r=n%10\n",
    "        list.append(r)\n",
    "        n=n//10\n",
    "    list.reverse()\n",
    "    print(list)\n",
    "    \n",
    "n=int(input(\"enter no: \"))\n",
    "noToListConversion(n)"
   ]
  },
  {
   "cell_type": "code",
   "execution_count": null,
   "metadata": {},
   "outputs": [],
   "source": []
  }
 ],
 "metadata": {
  "kernelspec": {
   "display_name": "Python 3",
   "language": "python",
   "name": "python3"
  },
  "language_info": {
   "codemirror_mode": {
    "name": "ipython",
    "version": 3
   },
   "file_extension": ".py",
   "mimetype": "text/x-python",
   "name": "python",
   "nbconvert_exporter": "python",
   "pygments_lexer": "ipython3",
   "version": "3.7.3"
  }
 },
 "nbformat": 4,
 "nbformat_minor": 2
}
