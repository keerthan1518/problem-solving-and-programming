{
  "nbformat": 4,
  "nbformat_minor": 0,
  "metadata": {
    "colab": {
      "name": "pandas.ipynb",
      "version": "0.3.2",
      "provenance": []
    },
    "kernelspec": {
      "name": "python3",
      "display_name": "Python 3"
    }
  },
  "cells": [
    {
      "cell_type": "code",
      "metadata": {
        "id": "rDY_EoSEl-yr",
        "colab_type": "code",
        "colab": {
          "base_uri": "https://localhost:8080/",
          "height": 255
        },
        "outputId": "48c66141-d722-4993-b45c-8de187fbad40"
      },
      "source": [
        "\n",
        "import pandas as pd\n",
        "dict={\"Name\":[\"Anil\",\"Akhil\",\"Dinesh\",\"Harsha\",\"Ajay\",\"Kranth\"],\n",
        "    \"EmailID\":[\"anil@gmail.com\",\"akhil@gmail.com\",\"dinesh@gmail.com\",\"harsha@gmail.com\",\"ajay@gmail.com\",\"kranth@gmail.com\"],\n",
        "    \"Mobile Number\":[99,44,55,22,33,41]}\n",
        "\n",
        "b=pd.DataFrame(dict)\n",
        "print(b)\n",
        "\n",
        "b.index=[\"01\",\"02\",\"03\",\"04\",\"05\",\"06\"]\n",
        "print(b)\n"
      ],
      "execution_count": 1,
      "outputs": [
        {
          "output_type": "stream",
          "text": [
            "     Name           EmailID  Mobile Number\n",
            "0    Anil    anil@gmail.com             99\n",
            "1   Akhil   akhil@gmail.com             44\n",
            "2  Dinesh  dinesh@gmail.com             55\n",
            "3  Harsha  harsha@gmail.com             22\n",
            "4    Ajay    ajay@gmail.com             33\n",
            "5  Kranth  kranth@gmail.com             41\n",
            "      Name           EmailID  Mobile Number\n",
            "01    Anil    anil@gmail.com             99\n",
            "02   Akhil   akhil@gmail.com             44\n",
            "03  Dinesh  dinesh@gmail.com             55\n",
            "04  Harsha  harsha@gmail.com             22\n",
            "05    Ajay    ajay@gmail.com             33\n",
            "06  Kranth  kranth@gmail.com             41\n"
          ],
          "name": "stdout"
        }
      ]
    },
    {
      "cell_type": "code",
      "metadata": {
        "id": "0AsY6N-0mBGC",
        "colab_type": "code",
        "colab": {}
      },
      "source": [
        ""
      ],
      "execution_count": 0,
      "outputs": []
    }
  ]
}